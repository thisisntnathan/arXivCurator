{
 "cells": [
  {
   "cell_type": "markdown",
   "id": "89de68ff-b0d3-42f5-a9bd-83447fe24c40",
   "metadata": {},
   "source": [
    "# arXiv Curating Agent\n",
    "\n",
    "A simple agent made to read arXiv preprint feeds and look for potentially interesting articles. The agent can either write papers to a remote file (e.g., a page on a static website) or send them in an email.  \n",
    "\n",
    "This notebook requires an OpenAI API key and (potentitally) GitHub API credentials. If you've somehow ended up here direcly visit the [project page](https://github.com/thisisntnathan/arXivCurator) to make sure things are set up correctly."
   ]
  },
  {
   "cell_type": "code",
   "execution_count": 1,
   "id": "ced2ac59-3e5e-4eaa-8c24-5cc21edfad51",
   "metadata": {},
   "outputs": [
    {
     "name": "stdout",
     "output_type": "stream",
     "text": [
      "User config loaded!\n"
     ]
    }
   ],
   "source": [
    "# imports\n",
    "import argparse\n",
    "import datetime\n",
    "import os\n",
    "import re\n",
    "\n",
    "import toml\n",
    "from dotenv import load_dotenv\n",
    "from langchain_core.messages import HumanMessage, SystemMessage\n",
    "from langchain_openai import ChatOpenAI\n",
    "from langgraph.checkpoint.memory import MemorySaver\n",
    "from langgraph.prebuilt import create_react_agent\n",
    "\n",
    "from tools import (\n",
    "    get_user_sources,\n",
    "    read_and_triage,\n",
    "    read_rss,\n",
    "    send_email,\n",
    "    shorten_abstract,\n",
    "    update_github_target,\n",
    "    write_paper_entry,\n",
    ")\n",
    "\n",
    "# set environment variables\n",
    "load_dotenv()\n",
    "\n",
    "# load user config\n",
    "config = {}\n",
    "with open(\"user.toml\", \"r\") as f:\n",
    "    cfg = toml.load(f)\n",
    "cfg[\"thread_id\"] = \"thread-0\"\n",
    "config[\"configurable\"] = dict(cfg)  # for LG to understand this everything needs to be nested under \"configurable\"...\n",
    "print(\"User config loaded!\")"
   ]
  },
  {
   "cell_type": "code",
   "execution_count": 2,
   "id": "ae1522d0-fc11-451c-915d-bd45383e0358",
   "metadata": {},
   "outputs": [
    {
     "name": "stdout",
     "output_type": "stream",
     "text": [
      "Agent toolkit:\n",
      "0 get_user_sources\n",
      "    Get this user's top rss feeds for reading.\n",
      "    Only call this tool if the user does not specify a rss feed url in the query\n",
      "1 read_rss\n",
      "    This tool will read data from an RSS feed and return articles from the feed regardless of potential interest.\n",
      "    If a certain number of articles is requested the list will return no more than the specified number of articles.\n",
      "    By default this tool returns all articles in the feed.\n",
      "2 read_and_triage\n",
      "    This tool will read data from an RSS feed and return papers from the feed are\n",
      "    interesting to the user.\n",
      "3 shorten_abstract\n",
      "    This tool uses an llm to summarize a paper from its title and abstract\n",
      "4 write_paper_entry\n",
      "    This tool writes a nice summary of the paper to add to the reading list.\n",
      "    Do not call this tool without calling 'shorten_abstract()' first.\n",
      "    The summary is formatted in Markdown language as an entry in an unnumbered list.\n",
      "5 update_github_target\n",
      "    This tool updates the target file on github with the formatted list entries.\n",
      "    The input to this tool should be only the formatted list entries without any header.\n",
      "6 send_email\n",
      "    This tool sends an email to the user with the daily reading list digest.\n"
     ]
    }
   ],
   "source": [
    "# create toolkit\n",
    "tools = [\n",
    "    get_user_sources,\n",
    "    read_rss,\n",
    "    read_and_triage,\n",
    "    shorten_abstract,\n",
    "    write_paper_entry,\n",
    "    update_github_target,\n",
    "    send_email,\n",
    "]\n",
    "print(\"Agent toolkit:\")\n",
    "for idx, tool in enumerate(tools):\n",
    "    tool.name = re.sub(r\"[^a-zA-Z0-9_-]\", \"\", tool.name.lower().replace(\" \", \"_\"))\n",
    "    print(idx, tool.name)\n",
    "    print(f\"    {tool.description}\")\n",
    "\n",
    "# checkpointing memory (thread persistence not true memory)\n",
    "memory = MemorySaver()\n",
    "\n",
    "sm = SystemMessage(\n",
    "    \"You are a helpful reading assistant. Your primary task is to read \\\n",
    "through rss feeds and summarize articles. Unless the user specifies otherwise produce \\\n",
    "the output as a markdown formatted list.\"\n",
    ")\n",
    "\n",
    "# initialize supervisor agent\n",
    "llm = ChatOpenAI(model=\"gpt-4o-mini\")\n",
    "agent_executor = create_react_agent(\n",
    "    model=llm,\n",
    "    tools=tools,\n",
    "    state_modifier=sm,\n",
    "    checkpointer=memory,\n",
    ")"
   ]
  },
  {
   "cell_type": "code",
   "execution_count": 3,
   "id": "9bd5dd5e-3511-4c01-9219-14b6bc33db13",
   "metadata": {},
   "outputs": [],
   "source": [
    "# a simple wrapper func\n",
    "def ask(msg, agent, verbose=False):\n",
    "    events = agent.stream(\n",
    "        {\"messages\": [HumanMessage(msg)]},\n",
    "        config,\n",
    "        stream_mode=\"values\",\n",
    "    )\n",
    "    if verbose:\n",
    "        for event in events:\n",
    "            event[\"messages\"][-1].pretty_print()\n",
    "    else:\n",
    "        *_, final_message = events\n",
    "        final_message[\"messages\"][-1].pretty_print()"
   ]
  },
  {
   "cell_type": "markdown",
   "id": "825a0e52-e6e6-4c7a-a47e-09835f9893ad",
   "metadata": {},
   "source": [
    "## Ask a question"
   ]
  },
  {
   "cell_type": "code",
   "execution_count": 4,
   "id": "184a27ee-5acd-4b92-bdd2-b216e01d5ae3",
   "metadata": {},
   "outputs": [
    {
     "name": "stdout",
     "output_type": "stream",
     "text": [
      "==================================\u001b[1m Ai Message \u001b[0m==================================\n",
      "\n",
      "Here are the last 10 articles from the ChemRxiv RSS feed:\n",
      "\n",
      "- **[Permeation Enhancer-Induced Membrane Defects Assist the Oral Absorption of Peptide Drugs](https://dx.doi.org/10.26434/chemrxiv-2025-n24f8?rft_dat=source%3Ddrss)**\n",
      "  - **Authors:** Severin T. Schneebeli, Kyle J. Colston, Kyle T. Faivre\n",
      "  - **Summary:** This study provides a detailed molecular mechanism for how polar peptides can pass through membranes with the aid of transcellular permeation enhancers, specifically through the formation of membrane defects when paired with salcaprozate sodium (SNAC).\n",
      "\n",
      "- **[Screening and Design of Aqueous Zinc Battery Electrolytes Based on the Multimodal Optimization of Molecular Simulation](https://dx.doi.org/10.26434/chemrxiv-2025-23xh1?rft_dat=source%3Ddrss)**\n",
      "  - **Authors:** Wei Feng, Luyan Zhang, Yaobo Cheng, Chunguang Wei, Jin Wu, Junwei Zhang, Kuang Yu\n",
      "  - **Summary:** This work presents a multimodal optimization workflow for designing aqueous zinc battery electrolytes to prevent freezing while maintaining conductivity, greatly improving predictions through minimal human intervention.\n",
      "\n",
      "- **[Nat-UV DB: A Natural Products Database Underlying of Veracruz-México](https://dx.doi.org/10.26434/chemrxiv-2025-zcj87?rft_dat=source%3Ddrss)**\n",
      "  - **Authors:** Edgar López López, Ana Margarita Hernández-Segura, Carlos Lara-Cuellar, Carolina Barrientos-Salcedo, Carlos M. Cerda-García-Rojas, José L. Medina-Franco\n",
      "  - **Summary:** This article discusses the creation of Nat-UV DB, the first natural products database from a coastal area of Mexico, highlighting its unique chemical diversity and relevance for various research fields.\n",
      "\n",
      "- **[A simple method to optimize the spacing and number of alchemical intermediates in expanded ensemble free energy calculations](https://dx.doi.org/10.26434/chemrxiv-2025-7fdpf?rft_dat=source%3Ddrss)**\n",
      "  - **Authors:** Vincent A. Voelz, Dylan Novack, Robert M. Raddi, Si Zhang, Matthew F. D. Hurley\n",
      "  - **Summary:** This paper introduces an algorithm to optimize the selection of alchemical intermediates in free energy simulations, enhancing efficiency in drug design.\n",
      "\n",
      "- **[Increasing the Accuracy and Robustness of the CHARMM General Force Field with an Expanded Training Set](https://dx.doi.org/10.26434/chemrxiv-2025-zkg2q?rft_dat=source%3Ddrss)**\n",
      "  - **Authors:** Alex MacKerell, Anastasia Croitoru, Anmol Kumar, Jihyeon Lee, Jean-Christophe Lambry, Wenbo Yu, Suliman Sharif, Alexey Aleksandrov\n",
      "  - **Summary:** This study enhances the CHARMM General Force Field (CGenFF) by expanding its training set, improving its ability to model organic molecules accurately.\n",
      "\n",
      "- **[Metavalent materials: Compounds with partial σ bonds and low ionic character](https://dx.doi.org/10.26434/chemrxiv-2025-8856v?rft_dat=source%3Ddrss)**\n",
      "  - **Authors:** Priyakumari Chakkingal Parambil, Gaurav Jhaa, Mithu Kumari\n",
      "  - **Summary:** The authors explore the concept of metavalent bonding, highlighting its characteristics and comparing it with known bonding types through molecular orbital theory and DFT calculations.\n",
      "\n",
      "- **[Formation and Evolution of Solid Electrolyte Interphase at Calcium Surfaces](https://dx.doi.org/10.26434/chemrxiv-2025-7v8kn?rft_dat=source%3Ddrss)**\n",
      "  - **Authors:** Sharma S. R. K. C. Yamijala, Subhadeep Banerjee\n",
      "  - **Summary:** This research delves into the dynamics of solid electrolyte interphase (SEI) formation at calcium surfaces, providing insights into its impact on battery performance through molecular dynamics simulations.\n",
      "\n",
      "- **[ACES-GNN: Can Graph Neural Network Learn to Explain Activity Cliffs?](https://dx.doi.org/10.26434/chemrxiv-2025-11wfv?rft_dat=source%3Ddrss)**\n",
      "  - **Authors:** Xu Chen, Dazhou Yu, Liang Zhao, Fang Liu\n",
      "  - **Summary:** The ACES-GNN framework is introduced to enhance both the predictive accuracy and interpretability of molecular property predictions by addressing the challenges posed by activity cliffs.\n",
      "\n",
      "- **[An extensive scaling-up oriented investigation on carbon felt flow-through and interdigitated Vanadium Flow Batteries cells](https://dx.doi.org/10.26434/chemrxiv-2025-3p3kn?rft_dat=source%3Ddrss)**\n",
      "  - **Authors:** Davide Bordignon, Nicolò Zatta, Andrea Trovò\n",
      "  - **Summary:** This work presents a computational model for Vanadium flow batteries, comparing different flow configurations and providing guidelines for scaling-up battery systems.\n",
      "\n",
      "- **[How Local is `Local'? Deep Learning Reveals Locality of the Induced Magnetic Field of Polycyclic Aromatic Hydrocarbons](https://dx.doi.org/10.26434/chemrxiv-2025-pqmcc?rft_dat=source%3Ddrss)**\n",
      "  - **Authors:** Renana Gershoni-Poranne, Yair Davidson, Aviad Philipp, Sabyasachi Chakraborty, Alex M. Bronstein\n",
      "  - **Summary:** Using deep learning techniques, this study investigates the magnetic response locality in polycyclic aromatic hydrocarbons, providing insights into GNN scalability and molecular characterization.\n"
     ]
    }
   ],
   "source": [
    "# interact with the agent using ask()\n",
    "msg = \"What are the last 10 articles from this arxiv feed: \\\n",
    "https://chemrxiv.org/engage/rss/chemrxiv?categoryId=605c72ef153207001f6470ce\"\n",
    "ask(msg, agent_executor)"
   ]
  },
  {
   "cell_type": "code",
   "execution_count": 5,
   "id": "7ca73bcc-7dea-421b-a29b-bbc05b56f32f",
   "metadata": {},
   "outputs": [
    {
     "name": "stdout",
     "output_type": "stream",
     "text": [
      "================================\u001b[1m Human Message \u001b[0m=================================\n",
      "\n",
      "Summarize the final article (How Local is `Local'? Deep Learning Reveals Locality of the Induced Magnetic Field of Polycyclic Aromatic Hydrocarbons) and upload it to the remote github file\n",
      "==================================\u001b[1m Ai Message \u001b[0m==================================\n",
      "Tool Calls:\n",
      "  shorten_abstract (call_KdMCxeifN9WY3m4celodMijl)\n",
      " Call ID: call_KdMCxeifN9WY3m4celodMijl\n",
      "  Args:\n",
      "    title: How Local is `Local'? Deep Learning Reveals Locality of the Induced Magnetic Field of Polycyclic Aromatic Hydrocarbons\n",
      "    abstract: We investigate the locality of magnetic response in polycyclic aromatic molecules using a novel deep-learning approach. Our method employs graph neural networks (GNNs) with a graph-of-rings representation to predict Nucleus-Independent Chemical Shifts in the space around the molecule. We train a series of models, each time reducing the size of the largest molecules used in training. The accuracy of prediction remains high (MAE < 0.5 ppm), even when training the model only on molecules with up to 4 rings, thus providing strong evidence for the locality of magnetic response. To overcome the known problem of generalization of GNNs, we implement a k-hop expansion strategy and succeed in achieving accurate predictions for molecules with up to 15 rings (almost 4 times the size of the largest training example). Our findings have implications for understanding the magnetic response in complex molecules and demonstrate a promising approach to overcoming GNN scalability limitations. Furthermore, the trained models enable rapid characterization, without the need for more expensive DFT calculations.\n",
      "=================================\u001b[1m Tool Message \u001b[0m=================================\n",
      "Name: shorten_abstract\n",
      "\n",
      "The paper explores the locality of the magnetic response in polycyclic aromatic hydrocarbons using graph neural networks (GNNs). Trained on datasets with varying sizes of molecules, the models maintain high accuracy (MAE < 0.5 ppm) even with 15-ring molecules. The study demonstrates an effective k-hop expansion strategy, aiding in overcoming GNN generalization and enhancing molecule characterization efficiency.\n",
      "==================================\u001b[1m Ai Message \u001b[0m==================================\n",
      "Tool Calls:\n",
      "  write_paper_entry (call_G5NdMpqrrljqlp2R8JxyffiT)\n",
      " Call ID: call_G5NdMpqrrljqlp2R8JxyffiT\n",
      "  Args:\n",
      "    title: How Local is `Local'? Deep Learning Reveals Locality of the Induced Magnetic Field of Polycyclic Aromatic Hydrocarbons\n",
      "    link: https://dx.doi.org/10.26434/chemrxiv-2025-pqmcc?rft_dat=source%3Ddrss\n",
      "    authors: Renana Gershoni-Poranne, Yair Davidson, Aviad Philipp, Sabyasachi Chakraborty, Alex M. Bronstein\n",
      "    summary: The paper explores the locality of the magnetic response in polycyclic aromatic hydrocarbons using graph neural networks (GNNs). Trained on datasets with varying sizes of molecules, the models maintain high accuracy (MAE < 0.5 ppm) even with 15-ring molecules. The study demonstrates an effective k-hop expansion strategy, aiding in overcoming GNN generalization and enhancing molecule characterization efficiency.\n",
      "    date: 2025-01-14\n",
      "    source: Theoretical and Computational Chemistry on ChemRxiv\n",
      "=================================\u001b[1m Tool Message \u001b[0m=================================\n",
      "Name: write_paper_entry\n",
      "\n",
      "- [How Local is `Local'? Deep Learning Reveals Locality of the Induced Magnetic Field of Polycyclic Aromatic Hydrocarbons](https://dx.doi.org/10.26434/chemrxiv-2025-pqmcc?rft_dat=source%3Ddrss)  \n",
      "Renana Gershoni-Poranne, Yair Davidson, Aviad Philipp, Sabyasachi Chakraborty, Alex M. Bronstein  \n",
      "*Theoretical and Computational Chemistry on ChemRxiv*  \n",
      "2025-01-14  \n",
      "&ensp;The paper explores the locality of the magnetic response in polycyclic aromatic hydrocarbons using graph neural networks (GNNs). Trained on datasets with varying sizes of molecules, the models maintain high accuracy (MAE < 0.5 ppm) even with 15-ring molecules. The study demonstrates an effective k-hop expansion strategy, aiding in overcoming GNN generalization and enhancing molecule characterization efficiency.  \n",
      "==================================\u001b[1m Ai Message \u001b[0m==================================\n",
      "Tool Calls:\n",
      "  update_github_target (call_7D8iFbrTi9qrZH1plFfX8UYN)\n",
      " Call ID: call_7D8iFbrTi9qrZH1plFfX8UYN\n",
      "  Args:\n",
      "    payload: - [How Local is `Local'? Deep Learning Reveals Locality of the Induced Magnetic Field of Polycyclic Aromatic Hydrocarbons](https://dx.doi.org/10.26434/chemrxiv-2025-pqmcc?rft_dat=source%3Ddrss)  \n",
      "Renana Gershoni-Poranne, Yair Davidson, Aviad Philipp, Sabyasachi Chakraborty, Alex M. Bronstein  \n",
      "*Theoretical and Computational Chemistry on ChemRxiv*  \n",
      "2025-01-14  \n",
      "&ensp;The paper explores the locality of the magnetic response in polycyclic aromatic hydrocarbons using graph neural networks (GNNs). Trained on datasets with varying sizes of molecules, the models maintain high accuracy (MAE < 0.5 ppm) even with 15-ring molecules. The study demonstrates an effective k-hop expansion strategy, aiding in overcoming GNN generalization and enhancing molecule characterization efficiency.\n",
      "=================================\u001b[1m Tool Message \u001b[0m=================================\n",
      "Name: update_github_target\n",
      "\n",
      "Readinglist Updated!\n",
      "To catch up on the your reading, visit        https://thisisntnathan.github.io/memorypalace/readinglist.html            \n",
      "Commit hash:65ba40ca851e0358c8aa4d75ace4d0c2abbc5aaf\n",
      "==================================\u001b[1m Ai Message \u001b[0m==================================\n",
      "\n",
      "The article **\"How Local is `Local'? Deep Learning Reveals Locality of the Induced Magnetic Field of Polycyclic Aromatic Hydrocarbons\"** has been summarized and successfully uploaded to the remote GitHub file. You can view the updated reading list [here](https://thisisntnathan.github.io/memorypalace/readinglist.html).\n"
     ]
    }
   ],
   "source": [
    "# because of threaded memory you can ask the agent follow-up questions\n",
    "# n.b. using the verbose option we can follow the agent's decision trace\n",
    "msg = \"Summarize the final article (How Local is `Local'? Deep Learning Reveals Locality of the Induced Magnetic Field of Polycyclic Aromatic Hydrocarbons) \\\n",
    "and upload it to the remote github file\"\n",
    "ask(msg, agent_executor, True)"
   ]
  },
  {
   "cell_type": "code",
   "execution_count": 7,
   "id": "05aee422-ad49-4b26-830c-11d009a28b2e",
   "metadata": {},
   "outputs": [
    {
     "name": "stdout",
     "output_type": "stream",
     "text": [
      "================================\u001b[1m Human Message \u001b[0m=================================\n",
      "\n",
      "Are there any more articles from that list that are similar to that one?\n",
      "==================================\u001b[1m Ai Message \u001b[0m==================================\n",
      "\n",
      "Based on the focus on deep learning and its application to molecular properties, particularly in graph neural networks and magnetic responses, the following articles from the list may be considered similar:\n",
      "\n",
      "1. **[ACES-GNN: Can Graph Neural Network Learn to Explain Activity Cliffs?](https://dx.doi.org/10.26434/chemrxiv-2025-11wfv?rft_dat=source%3Ddrss)**\n",
      "   - This article discusses a framework that integrates explanation supervision into graph neural networks (GNNs) for predicting molecular properties, which aligns with the computational and machine learning aspects of the article you mentioned.\n",
      "\n",
      "2. **[Formation and Evolution of Solid Electrolyte Interphase at Calcium Surfaces](https://dx.doi.org/10.26434/chemrxiv-2025-7v8kn?rft_dat=source%3Ddrss)**\n",
      "   - While focusing on solid electrolyte interphases, this article utilizes computational methods that may involve similar modeling techniques and insights into molecular interactions.\n",
      "\n",
      "3. **[A simple method to optimize the spacing and number of alchemical intermediates in expanded ensemble free energy calculations](https://dx.doi.org/10.26434/chemrxiv-2025-7fdpf?rft_dat=source%3Ddrss)**\n",
      "   - This paper involves computational methods for optimizing simulations, which may resonate with the methodological aspects discussed in the article on deep learning.\n",
      "\n",
      "If you are interested in any of these articles, I can provide a summary or additional details!\n"
     ]
    }
   ],
   "source": [
    "# ask another follow-up in reference to previous lists\n",
    "msg = \"Are there any more articles from that list that are similar to that one?\"\n",
    "ask(msg, agent_executor, True)"
   ]
  },
  {
   "cell_type": "markdown",
   "id": "dd9a3b19-8dd2-4b52-91c8-8942b2f35f94",
   "metadata": {},
   "source": [
    "## Try for yourself!"
   ]
  },
  {
   "cell_type": "code",
   "execution_count": null,
   "id": "9f0943de-6455-49e9-8162-72d9434e3f22",
   "metadata": {},
   "outputs": [],
   "source": [
    "msg = \"\"\n",
    "ask(msg, agent_executor)"
   ]
  }
 ],
 "metadata": {
  "kernelspec": {
   "display_name": "Python 3 (ipykernel)",
   "language": "python",
   "name": "python3"
  },
  "language_info": {
   "codemirror_mode": {
    "name": "ipython",
    "version": 3
   },
   "file_extension": ".py",
   "mimetype": "text/x-python",
   "name": "python",
   "nbconvert_exporter": "python",
   "pygments_lexer": "ipython3",
   "version": "3.11.11"
  }
 },
 "nbformat": 4,
 "nbformat_minor": 5
}
